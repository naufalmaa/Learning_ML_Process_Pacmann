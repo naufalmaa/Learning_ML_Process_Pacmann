{
 "cells": [
  {
   "cell_type": "code",
   "execution_count": 1,
   "metadata": {},
   "outputs": [],
   "source": [
    "import pandas as pd\n",
    "import numpy as np\n",
    "import seaborn as sns\n",
    "import scipy.stats as scs\n",
    "import joblib\n",
    "import yaml\n",
    "import matplotlib.pyplot as plt"
   ]
  },
  {
   "attachments": {},
   "cell_type": "markdown",
   "metadata": {},
   "source": [
    "# 1. Import Params"
   ]
  },
  {
   "cell_type": "code",
   "execution_count": 2,
   "metadata": {},
   "outputs": [],
   "source": [
    "params_dir = \"config/params.yaml\""
   ]
  },
  {
   "cell_type": "code",
   "execution_count": 3,
   "metadata": {},
   "outputs": [],
   "source": [
    "def load_params(param_dir):\n",
    "    with open(param_dir, 'r') as file:\n",
    "        params = yaml.safe_load(file)\n",
    "        \n",
    "    return params"
   ]
  },
  {
   "cell_type": "code",
   "execution_count": 4,
   "metadata": {},
   "outputs": [],
   "source": [
    "params = load_params(params_dir)"
   ]
  },
  {
   "cell_type": "code",
   "execution_count": 5,
   "metadata": {},
   "outputs": [
    {
     "data": {
      "text/plain": [
       "{'dataset_dir': 'data/raw/',\n",
       " 'datetime_columns': ['tanggal'],\n",
       " 'int32_columns': ['pm10', 'pm25', 'so2', 'co', 'o3', 'no2', 'max'],\n",
       " 'label': 'categori',\n",
       " 'label_categories': ['BAIK', 'SEDANG', 'TIDAK SEHAT'],\n",
       " 'label_categories_new': ['BAIK', 'TIDAK BAIK'],\n",
       " 'missing_value_co': 11,\n",
       " 'missing_value_no2': 18,\n",
       " 'missing_value_o3': 29,\n",
       " 'missing_value_pm10': {'BAIK': 28, 'TIDAK BAIK': 55},\n",
       " 'missing_value_pm25': {'BAIK': 38, 'TIDAK BAIK': 82},\n",
       " 'missing_value_so2': 35,\n",
       " 'object_columns': ['stasiun', 'critical', 'categori'],\n",
       " 'predictors': ['stasiun', 'pm10', 'pm25', 'so2', 'co', 'o3', 'no2'],\n",
       " 'range_co': [-1, 100],\n",
       " 'range_no2': [-1, 100],\n",
       " 'range_o3': [-1, 160],\n",
       " 'range_pm10': [-1, 800],\n",
       " 'range_pm25': [-1, 400],\n",
       " 'range_so2': [-1, 500],\n",
       " 'range_stasiun': ['DKI1 (Bunderan HI)',\n",
       "  'DKI2 (Kelapa Gading)',\n",
       "  'DKI3 (Jagakarsa)',\n",
       "  'DKI4 (Lubang Buaya)',\n",
       "  'DKI5 (Kebon Jeruk) Jakarta Barat']}"
      ]
     },
     "execution_count": 5,
     "metadata": {},
     "output_type": "execute_result"
    }
   ],
   "source": [
    "params"
   ]
  },
  {
   "attachments": {},
   "cell_type": "markdown",
   "metadata": {},
   "source": [
    "## 2. Load Train Set"
   ]
  },
  {
   "cell_type": "code",
   "execution_count": 8,
   "metadata": {},
   "outputs": [],
   "source": [
    "x_train = joblib.load(\"data/processed/x_train.pkl\")\n",
    "y_train = joblib.load(\"data/processed/y_train.pkl\")"
   ]
  },
  {
   "cell_type": "code",
   "execution_count": 9,
   "metadata": {},
   "outputs": [
    {
     "data": {
      "text/html": [
       "<div>\n",
       "<style scoped>\n",
       "    .dataframe tbody tr th:only-of-type {\n",
       "        vertical-align: middle;\n",
       "    }\n",
       "\n",
       "    .dataframe tbody tr th {\n",
       "        vertical-align: top;\n",
       "    }\n",
       "\n",
       "    .dataframe thead th {\n",
       "        text-align: right;\n",
       "    }\n",
       "</style>\n",
       "<table border=\"1\" class=\"dataframe\">\n",
       "  <thead>\n",
       "    <tr style=\"text-align: right;\">\n",
       "      <th></th>\n",
       "      <th>stasiun</th>\n",
       "      <th>pm10</th>\n",
       "      <th>pm25</th>\n",
       "      <th>so2</th>\n",
       "      <th>co</th>\n",
       "      <th>o3</th>\n",
       "      <th>no2</th>\n",
       "    </tr>\n",
       "  </thead>\n",
       "  <tbody>\n",
       "    <tr>\n",
       "      <th>1498</th>\n",
       "      <td>DKI5 (Kebon Jeruk) Jakarta Barat</td>\n",
       "      <td>48</td>\n",
       "      <td>63</td>\n",
       "      <td>32</td>\n",
       "      <td>8</td>\n",
       "      <td>28</td>\n",
       "      <td>30</td>\n",
       "    </tr>\n",
       "    <tr>\n",
       "      <th>1522</th>\n",
       "      <td>DKI1 (Bunderan HI)</td>\n",
       "      <td>25</td>\n",
       "      <td>42</td>\n",
       "      <td>20</td>\n",
       "      <td>8</td>\n",
       "      <td>18</td>\n",
       "      <td>22</td>\n",
       "    </tr>\n",
       "    <tr>\n",
       "      <th>1426</th>\n",
       "      <td>DKI2 (Kelapa Gading)</td>\n",
       "      <td>61</td>\n",
       "      <td>85</td>\n",
       "      <td>33</td>\n",
       "      <td>23</td>\n",
       "      <td>37</td>\n",
       "      <td>44</td>\n",
       "    </tr>\n",
       "    <tr>\n",
       "      <th>408</th>\n",
       "      <td>DKI4 (Lubang Buaya)</td>\n",
       "      <td>48</td>\n",
       "      <td>68</td>\n",
       "      <td>36</td>\n",
       "      <td>13</td>\n",
       "      <td>24</td>\n",
       "      <td>14</td>\n",
       "    </tr>\n",
       "    <tr>\n",
       "      <th>150</th>\n",
       "      <td>DKI1 (Bunderan HI)</td>\n",
       "      <td>57</td>\n",
       "      <td>81</td>\n",
       "      <td>30</td>\n",
       "      <td>11</td>\n",
       "      <td>32</td>\n",
       "      <td>38</td>\n",
       "    </tr>\n",
       "    <tr>\n",
       "      <th>...</th>\n",
       "      <td>...</td>\n",
       "      <td>...</td>\n",
       "      <td>...</td>\n",
       "      <td>...</td>\n",
       "      <td>...</td>\n",
       "      <td>...</td>\n",
       "      <td>...</td>\n",
       "    </tr>\n",
       "    <tr>\n",
       "      <th>217</th>\n",
       "      <td>DKI3 (Jagakarsa)</td>\n",
       "      <td>48</td>\n",
       "      <td>67</td>\n",
       "      <td>51</td>\n",
       "      <td>6</td>\n",
       "      <td>34</td>\n",
       "      <td>11</td>\n",
       "    </tr>\n",
       "    <tr>\n",
       "      <th>16</th>\n",
       "      <td>DKI1 (Bunderan HI)</td>\n",
       "      <td>42</td>\n",
       "      <td>66</td>\n",
       "      <td>29</td>\n",
       "      <td>7</td>\n",
       "      <td>26</td>\n",
       "      <td>20</td>\n",
       "    </tr>\n",
       "    <tr>\n",
       "      <th>1391</th>\n",
       "      <td>DKI1 (Bunderan HI)</td>\n",
       "      <td>52</td>\n",
       "      <td>71</td>\n",
       "      <td>61</td>\n",
       "      <td>15</td>\n",
       "      <td>20</td>\n",
       "      <td>15</td>\n",
       "    </tr>\n",
       "    <tr>\n",
       "      <th>604</th>\n",
       "      <td>DKI5 (Kebon Jeruk) Jakarta Barat</td>\n",
       "      <td>48</td>\n",
       "      <td>79</td>\n",
       "      <td>34</td>\n",
       "      <td>7</td>\n",
       "      <td>24</td>\n",
       "      <td>17</td>\n",
       "    </tr>\n",
       "    <tr>\n",
       "      <th>1348</th>\n",
       "      <td>DKI5 (Kebon Jeruk) Jakarta Barat</td>\n",
       "      <td>35</td>\n",
       "      <td>65</td>\n",
       "      <td>38</td>\n",
       "      <td>11</td>\n",
       "      <td>11</td>\n",
       "      <td>42</td>\n",
       "    </tr>\n",
       "  </tbody>\n",
       "</table>\n",
       "<p>1266 rows × 7 columns</p>\n",
       "</div>"
      ],
      "text/plain": [
       "                               stasiun  pm10  pm25  so2  co  o3  no2\n",
       "1498  DKI5 (Kebon Jeruk) Jakarta Barat    48    63   32   8  28   30\n",
       "1522                DKI1 (Bunderan HI)    25    42   20   8  18   22\n",
       "1426              DKI2 (Kelapa Gading)    61    85   33  23  37   44\n",
       "408                DKI4 (Lubang Buaya)    48    68   36  13  24   14\n",
       "150                 DKI1 (Bunderan HI)    57    81   30  11  32   38\n",
       "...                                ...   ...   ...  ...  ..  ..  ...\n",
       "217                   DKI3 (Jagakarsa)    48    67   51   6  34   11\n",
       "16                  DKI1 (Bunderan HI)    42    66   29   7  26   20\n",
       "1391                DKI1 (Bunderan HI)    52    71   61  15  20   15\n",
       "604   DKI5 (Kebon Jeruk) Jakarta Barat    48    79   34   7  24   17\n",
       "1348  DKI5 (Kebon Jeruk) Jakarta Barat    35    65   38  11  11   42\n",
       "\n",
       "[1266 rows x 7 columns]"
      ]
     },
     "execution_count": 9,
     "metadata": {},
     "output_type": "execute_result"
    }
   ],
   "source": [
    "x_train"
   ]
  },
  {
   "cell_type": "code",
   "execution_count": 10,
   "metadata": {},
   "outputs": [
    {
     "data": {
      "text/plain": [
       "1498    SEDANG\n",
       "1522      BAIK\n",
       "1426    SEDANG\n",
       "408     SEDANG\n",
       "150     SEDANG\n",
       "         ...  \n",
       "217     SEDANG\n",
       "16      SEDANG\n",
       "1391    SEDANG\n",
       "604     SEDANG\n",
       "1348    SEDANG\n",
       "Name: categori, Length: 1266, dtype: object"
      ]
     },
     "execution_count": 10,
     "metadata": {},
     "output_type": "execute_result"
    }
   ],
   "source": [
    "y_train"
   ]
  },
  {
   "cell_type": "code",
   "execution_count": 11,
   "metadata": {},
   "outputs": [],
   "source": [
    "dataset = pd.concat([x_train, y_train], axis = 1)"
   ]
  },
  {
   "cell_type": "code",
   "execution_count": 12,
   "metadata": {},
   "outputs": [
    {
     "data": {
      "text/html": [
       "<div>\n",
       "<style scoped>\n",
       "    .dataframe tbody tr th:only-of-type {\n",
       "        vertical-align: middle;\n",
       "    }\n",
       "\n",
       "    .dataframe tbody tr th {\n",
       "        vertical-align: top;\n",
       "    }\n",
       "\n",
       "    .dataframe thead th {\n",
       "        text-align: right;\n",
       "    }\n",
       "</style>\n",
       "<table border=\"1\" class=\"dataframe\">\n",
       "  <thead>\n",
       "    <tr style=\"text-align: right;\">\n",
       "      <th></th>\n",
       "      <th>stasiun</th>\n",
       "      <th>pm10</th>\n",
       "      <th>pm25</th>\n",
       "      <th>so2</th>\n",
       "      <th>co</th>\n",
       "      <th>o3</th>\n",
       "      <th>no2</th>\n",
       "      <th>categori</th>\n",
       "    </tr>\n",
       "  </thead>\n",
       "  <tbody>\n",
       "    <tr>\n",
       "      <th>1498</th>\n",
       "      <td>DKI5 (Kebon Jeruk) Jakarta Barat</td>\n",
       "      <td>48</td>\n",
       "      <td>63</td>\n",
       "      <td>32</td>\n",
       "      <td>8</td>\n",
       "      <td>28</td>\n",
       "      <td>30</td>\n",
       "      <td>SEDANG</td>\n",
       "    </tr>\n",
       "    <tr>\n",
       "      <th>1522</th>\n",
       "      <td>DKI1 (Bunderan HI)</td>\n",
       "      <td>25</td>\n",
       "      <td>42</td>\n",
       "      <td>20</td>\n",
       "      <td>8</td>\n",
       "      <td>18</td>\n",
       "      <td>22</td>\n",
       "      <td>BAIK</td>\n",
       "    </tr>\n",
       "    <tr>\n",
       "      <th>1426</th>\n",
       "      <td>DKI2 (Kelapa Gading)</td>\n",
       "      <td>61</td>\n",
       "      <td>85</td>\n",
       "      <td>33</td>\n",
       "      <td>23</td>\n",
       "      <td>37</td>\n",
       "      <td>44</td>\n",
       "      <td>SEDANG</td>\n",
       "    </tr>\n",
       "    <tr>\n",
       "      <th>408</th>\n",
       "      <td>DKI4 (Lubang Buaya)</td>\n",
       "      <td>48</td>\n",
       "      <td>68</td>\n",
       "      <td>36</td>\n",
       "      <td>13</td>\n",
       "      <td>24</td>\n",
       "      <td>14</td>\n",
       "      <td>SEDANG</td>\n",
       "    </tr>\n",
       "    <tr>\n",
       "      <th>150</th>\n",
       "      <td>DKI1 (Bunderan HI)</td>\n",
       "      <td>57</td>\n",
       "      <td>81</td>\n",
       "      <td>30</td>\n",
       "      <td>11</td>\n",
       "      <td>32</td>\n",
       "      <td>38</td>\n",
       "      <td>SEDANG</td>\n",
       "    </tr>\n",
       "    <tr>\n",
       "      <th>...</th>\n",
       "      <td>...</td>\n",
       "      <td>...</td>\n",
       "      <td>...</td>\n",
       "      <td>...</td>\n",
       "      <td>...</td>\n",
       "      <td>...</td>\n",
       "      <td>...</td>\n",
       "      <td>...</td>\n",
       "    </tr>\n",
       "    <tr>\n",
       "      <th>217</th>\n",
       "      <td>DKI3 (Jagakarsa)</td>\n",
       "      <td>48</td>\n",
       "      <td>67</td>\n",
       "      <td>51</td>\n",
       "      <td>6</td>\n",
       "      <td>34</td>\n",
       "      <td>11</td>\n",
       "      <td>SEDANG</td>\n",
       "    </tr>\n",
       "    <tr>\n",
       "      <th>16</th>\n",
       "      <td>DKI1 (Bunderan HI)</td>\n",
       "      <td>42</td>\n",
       "      <td>66</td>\n",
       "      <td>29</td>\n",
       "      <td>7</td>\n",
       "      <td>26</td>\n",
       "      <td>20</td>\n",
       "      <td>SEDANG</td>\n",
       "    </tr>\n",
       "    <tr>\n",
       "      <th>1391</th>\n",
       "      <td>DKI1 (Bunderan HI)</td>\n",
       "      <td>52</td>\n",
       "      <td>71</td>\n",
       "      <td>61</td>\n",
       "      <td>15</td>\n",
       "      <td>20</td>\n",
       "      <td>15</td>\n",
       "      <td>SEDANG</td>\n",
       "    </tr>\n",
       "    <tr>\n",
       "      <th>604</th>\n",
       "      <td>DKI5 (Kebon Jeruk) Jakarta Barat</td>\n",
       "      <td>48</td>\n",
       "      <td>79</td>\n",
       "      <td>34</td>\n",
       "      <td>7</td>\n",
       "      <td>24</td>\n",
       "      <td>17</td>\n",
       "      <td>SEDANG</td>\n",
       "    </tr>\n",
       "    <tr>\n",
       "      <th>1348</th>\n",
       "      <td>DKI5 (Kebon Jeruk) Jakarta Barat</td>\n",
       "      <td>35</td>\n",
       "      <td>65</td>\n",
       "      <td>38</td>\n",
       "      <td>11</td>\n",
       "      <td>11</td>\n",
       "      <td>42</td>\n",
       "      <td>SEDANG</td>\n",
       "    </tr>\n",
       "  </tbody>\n",
       "</table>\n",
       "<p>1266 rows × 8 columns</p>\n",
       "</div>"
      ],
      "text/plain": [
       "                               stasiun  pm10  pm25  so2  co  o3  no2 categori\n",
       "1498  DKI5 (Kebon Jeruk) Jakarta Barat    48    63   32   8  28   30   SEDANG\n",
       "1522                DKI1 (Bunderan HI)    25    42   20   8  18   22     BAIK\n",
       "1426              DKI2 (Kelapa Gading)    61    85   33  23  37   44   SEDANG\n",
       "408                DKI4 (Lubang Buaya)    48    68   36  13  24   14   SEDANG\n",
       "150                 DKI1 (Bunderan HI)    57    81   30  11  32   38   SEDANG\n",
       "...                                ...   ...   ...  ...  ..  ..  ...      ...\n",
       "217                   DKI3 (Jagakarsa)    48    67   51   6  34   11   SEDANG\n",
       "16                  DKI1 (Bunderan HI)    42    66   29   7  26   20   SEDANG\n",
       "1391                DKI1 (Bunderan HI)    52    71   61  15  20   15   SEDANG\n",
       "604   DKI5 (Kebon Jeruk) Jakarta Barat    48    79   34   7  24   17   SEDANG\n",
       "1348  DKI5 (Kebon Jeruk) Jakarta Barat    35    65   38  11  11   42   SEDANG\n",
       "\n",
       "[1266 rows x 8 columns]"
      ]
     },
     "execution_count": 12,
     "metadata": {},
     "output_type": "execute_result"
    }
   ],
   "source": [
    "dataset"
   ]
  },
  {
   "cell_type": "code",
   "execution_count": 13,
   "metadata": {},
   "outputs": [
    {
     "data": {
      "text/html": [
       "<div>\n",
       "<style scoped>\n",
       "    .dataframe tbody tr th:only-of-type {\n",
       "        vertical-align: middle;\n",
       "    }\n",
       "\n",
       "    .dataframe tbody tr th {\n",
       "        vertical-align: top;\n",
       "    }\n",
       "\n",
       "    .dataframe thead th {\n",
       "        text-align: right;\n",
       "    }\n",
       "</style>\n",
       "<table border=\"1\" class=\"dataframe\">\n",
       "  <thead>\n",
       "    <tr style=\"text-align: right;\">\n",
       "      <th></th>\n",
       "      <th>pm10</th>\n",
       "      <th>pm25</th>\n",
       "      <th>so2</th>\n",
       "      <th>co</th>\n",
       "      <th>o3</th>\n",
       "      <th>no2</th>\n",
       "    </tr>\n",
       "  </thead>\n",
       "  <tbody>\n",
       "    <tr>\n",
       "      <th>count</th>\n",
       "      <td>1266.000000</td>\n",
       "      <td>1266.000000</td>\n",
       "      <td>1266.000000</td>\n",
       "      <td>1266.000000</td>\n",
       "      <td>1266.000000</td>\n",
       "      <td>1266.00000</td>\n",
       "    </tr>\n",
       "    <tr>\n",
       "      <th>mean</th>\n",
       "      <td>50.591627</td>\n",
       "      <td>74.102686</td>\n",
       "      <td>33.012638</td>\n",
       "      <td>11.674566</td>\n",
       "      <td>30.441548</td>\n",
       "      <td>19.49842</td>\n",
       "    </tr>\n",
       "    <tr>\n",
       "      <th>std</th>\n",
       "      <td>17.155091</td>\n",
       "      <td>27.790928</td>\n",
       "      <td>14.836069</td>\n",
       "      <td>5.299409</td>\n",
       "      <td>15.382352</td>\n",
       "      <td>9.55990</td>\n",
       "    </tr>\n",
       "    <tr>\n",
       "      <th>min</th>\n",
       "      <td>-1.000000</td>\n",
       "      <td>-1.000000</td>\n",
       "      <td>-1.000000</td>\n",
       "      <td>-1.000000</td>\n",
       "      <td>-1.000000</td>\n",
       "      <td>-1.00000</td>\n",
       "    </tr>\n",
       "    <tr>\n",
       "      <th>25%</th>\n",
       "      <td>42.000000</td>\n",
       "      <td>59.000000</td>\n",
       "      <td>24.000000</td>\n",
       "      <td>8.000000</td>\n",
       "      <td>21.000000</td>\n",
       "      <td>13.00000</td>\n",
       "    </tr>\n",
       "    <tr>\n",
       "      <th>50%</th>\n",
       "      <td>53.000000</td>\n",
       "      <td>77.000000</td>\n",
       "      <td>33.000000</td>\n",
       "      <td>11.000000</td>\n",
       "      <td>28.000000</td>\n",
       "      <td>18.00000</td>\n",
       "    </tr>\n",
       "    <tr>\n",
       "      <th>75%</th>\n",
       "      <td>61.000000</td>\n",
       "      <td>91.000000</td>\n",
       "      <td>43.000000</td>\n",
       "      <td>14.000000</td>\n",
       "      <td>38.000000</td>\n",
       "      <td>25.00000</td>\n",
       "    </tr>\n",
       "    <tr>\n",
       "      <th>max</th>\n",
       "      <td>179.000000</td>\n",
       "      <td>174.000000</td>\n",
       "      <td>82.000000</td>\n",
       "      <td>47.000000</td>\n",
       "      <td>151.000000</td>\n",
       "      <td>65.00000</td>\n",
       "    </tr>\n",
       "  </tbody>\n",
       "</table>\n",
       "</div>"
      ],
      "text/plain": [
       "              pm10         pm25          so2           co           o3  \\\n",
       "count  1266.000000  1266.000000  1266.000000  1266.000000  1266.000000   \n",
       "mean     50.591627    74.102686    33.012638    11.674566    30.441548   \n",
       "std      17.155091    27.790928    14.836069     5.299409    15.382352   \n",
       "min      -1.000000    -1.000000    -1.000000    -1.000000    -1.000000   \n",
       "25%      42.000000    59.000000    24.000000     8.000000    21.000000   \n",
       "50%      53.000000    77.000000    33.000000    11.000000    28.000000   \n",
       "75%      61.000000    91.000000    43.000000    14.000000    38.000000   \n",
       "max     179.000000   174.000000    82.000000    47.000000   151.000000   \n",
       "\n",
       "              no2  \n",
       "count  1266.00000  \n",
       "mean     19.49842  \n",
       "std       9.55990  \n",
       "min      -1.00000  \n",
       "25%      13.00000  \n",
       "50%      18.00000  \n",
       "75%      25.00000  \n",
       "max      65.00000  "
      ]
     },
     "execution_count": 13,
     "metadata": {},
     "output_type": "execute_result"
    }
   ],
   "source": [
    "dataset.describe()"
   ]
  },
  {
   "attachments": {},
   "cell_type": "markdown",
   "metadata": {},
   "source": [
    "## 3.  EDA"
   ]
  },
  {
   "cell_type": "code",
   "execution_count": 15,
   "metadata": {},
   "outputs": [],
   "source": [
    "# Cek Missing Value\n",
    "\n",
    "# ubah kembali nilai yang awalnya adalah -1 menjadi NaN\n",
    "dataset.replace(-1, np.nan, inplace = True)"
   ]
  },
  {
   "cell_type": "code",
   "execution_count": 16,
   "metadata": {},
   "outputs": [
    {
     "data": {
      "text/plain": [
       "stasiun      0\n",
       "pm10        37\n",
       "pm25        57\n",
       "so2         67\n",
       "co          14\n",
       "o3          38\n",
       "no2         10\n",
       "categori     0\n",
       "dtype: int64"
      ]
     },
     "execution_count": 16,
     "metadata": {},
     "output_type": "execute_result"
    }
   ],
   "source": [
    "# cek null value\n",
    "dataset.isnull().sum()"
   ]
  },
  {
   "attachments": {},
   "cell_type": "markdown",
   "metadata": {},
   "source": [
    "### cek informasi statistik"
   ]
  },
  {
   "cell_type": "code",
   "execution_count": 17,
   "metadata": {},
   "outputs": [
    {
     "data": {
      "text/plain": [
       "pm10    0.267488\n",
       "pm25    0.188977\n",
       "so2     0.208078\n",
       "co      1.723918\n",
       "o3      1.652837\n",
       "no2     0.908971\n",
       "dtype: float64"
      ]
     },
     "execution_count": 17,
     "metadata": {},
     "output_type": "execute_result"
    }
   ],
   "source": [
    "# cek skewness\n",
    "dataset.skew(numeric_only = True)"
   ]
  },
  {
   "cell_type": "code",
   "execution_count": null,
   "metadata": {},
   "outputs": [],
   "source": [
    "# kolom co, o3 dan no2 > +- 0.5, maka dari itu kolom tersebut akan diimputasi dengan median\n",
    "# kolom lainnya akan diimputasi dengan mean"
   ]
  },
  {
   "cell_type": "code",
   "execution_count": 18,
   "metadata": {},
   "outputs": [],
   "source": [
    "# Pemisahan Dataset berdasarkan Kelas\n",
    "# pisahkan menjadi 2 kelas untuk melihat apakah kita perlu melakukan imputasi berdasarkan kelas\n",
    "dataset_baik = dataset[dataset.categori == \"BAIK\"].copy()\n",
    "dataset_tidak_baik = dataset[dataset.categori != \"BAIK\"].copy()"
   ]
  },
  {
   "cell_type": "code",
   "execution_count": 19,
   "metadata": {},
   "outputs": [
    {
     "data": {
      "text/html": [
       "<div>\n",
       "<style scoped>\n",
       "    .dataframe tbody tr th:only-of-type {\n",
       "        vertical-align: middle;\n",
       "    }\n",
       "\n",
       "    .dataframe tbody tr th {\n",
       "        vertical-align: top;\n",
       "    }\n",
       "\n",
       "    .dataframe thead th {\n",
       "        text-align: right;\n",
       "    }\n",
       "</style>\n",
       "<table border=\"1\" class=\"dataframe\">\n",
       "  <thead>\n",
       "    <tr style=\"text-align: right;\">\n",
       "      <th></th>\n",
       "      <th>pm10</th>\n",
       "      <th>pm25</th>\n",
       "      <th>so2</th>\n",
       "      <th>co</th>\n",
       "      <th>o3</th>\n",
       "      <th>no2</th>\n",
       "    </tr>\n",
       "  </thead>\n",
       "  <tbody>\n",
       "    <tr>\n",
       "      <th>count</th>\n",
       "      <td>126.000000</td>\n",
       "      <td>98.000000</td>\n",
       "      <td>129.000000</td>\n",
       "      <td>132.000000</td>\n",
       "      <td>130.000000</td>\n",
       "      <td>125.000000</td>\n",
       "    </tr>\n",
       "    <tr>\n",
       "      <th>mean</th>\n",
       "      <td>28.373016</td>\n",
       "      <td>39.081633</td>\n",
       "      <td>25.248062</td>\n",
       "      <td>8.696970</td>\n",
       "      <td>26.323077</td>\n",
       "      <td>11.280000</td>\n",
       "    </tr>\n",
       "    <tr>\n",
       "      <th>std</th>\n",
       "      <td>7.836054</td>\n",
       "      <td>8.215742</td>\n",
       "      <td>11.027686</td>\n",
       "      <td>4.601592</td>\n",
       "      <td>11.011773</td>\n",
       "      <td>6.846944</td>\n",
       "    </tr>\n",
       "    <tr>\n",
       "      <th>min</th>\n",
       "      <td>14.000000</td>\n",
       "      <td>13.000000</td>\n",
       "      <td>3.000000</td>\n",
       "      <td>2.000000</td>\n",
       "      <td>7.000000</td>\n",
       "      <td>3.000000</td>\n",
       "    </tr>\n",
       "    <tr>\n",
       "      <th>25%</th>\n",
       "      <td>23.000000</td>\n",
       "      <td>34.000000</td>\n",
       "      <td>17.000000</td>\n",
       "      <td>5.750000</td>\n",
       "      <td>16.000000</td>\n",
       "      <td>6.000000</td>\n",
       "    </tr>\n",
       "    <tr>\n",
       "      <th>50%</th>\n",
       "      <td>28.000000</td>\n",
       "      <td>40.000000</td>\n",
       "      <td>22.000000</td>\n",
       "      <td>8.000000</td>\n",
       "      <td>24.500000</td>\n",
       "      <td>10.000000</td>\n",
       "    </tr>\n",
       "    <tr>\n",
       "      <th>75%</th>\n",
       "      <td>33.000000</td>\n",
       "      <td>46.000000</td>\n",
       "      <td>36.000000</td>\n",
       "      <td>11.000000</td>\n",
       "      <td>35.000000</td>\n",
       "      <td>14.000000</td>\n",
       "    </tr>\n",
       "    <tr>\n",
       "      <th>max</th>\n",
       "      <td>50.000000</td>\n",
       "      <td>50.000000</td>\n",
       "      <td>49.000000</td>\n",
       "      <td>28.000000</td>\n",
       "      <td>49.000000</td>\n",
       "      <td>49.000000</td>\n",
       "    </tr>\n",
       "  </tbody>\n",
       "</table>\n",
       "</div>"
      ],
      "text/plain": [
       "             pm10       pm25         so2          co          o3         no2\n",
       "count  126.000000  98.000000  129.000000  132.000000  130.000000  125.000000\n",
       "mean    28.373016  39.081633   25.248062    8.696970   26.323077   11.280000\n",
       "std      7.836054   8.215742   11.027686    4.601592   11.011773    6.846944\n",
       "min     14.000000  13.000000    3.000000    2.000000    7.000000    3.000000\n",
       "25%     23.000000  34.000000   17.000000    5.750000   16.000000    6.000000\n",
       "50%     28.000000  40.000000   22.000000    8.000000   24.500000   10.000000\n",
       "75%     33.000000  46.000000   36.000000   11.000000   35.000000   14.000000\n",
       "max     50.000000  50.000000   49.000000   28.000000   49.000000   49.000000"
      ]
     },
     "execution_count": 19,
     "metadata": {},
     "output_type": "execute_result"
    }
   ],
   "source": [
    "# kelas 1\n",
    "dataset_baik.describe()"
   ]
  },
  {
   "cell_type": "code",
   "execution_count": 20,
   "metadata": {},
   "outputs": [
    {
     "data": {
      "text/html": [
       "<div>\n",
       "<style scoped>\n",
       "    .dataframe tbody tr th:only-of-type {\n",
       "        vertical-align: middle;\n",
       "    }\n",
       "\n",
       "    .dataframe tbody tr th {\n",
       "        vertical-align: top;\n",
       "    }\n",
       "\n",
       "    .dataframe thead th {\n",
       "        text-align: right;\n",
       "    }\n",
       "</style>\n",
       "<table border=\"1\" class=\"dataframe\">\n",
       "  <thead>\n",
       "    <tr style=\"text-align: right;\">\n",
       "      <th></th>\n",
       "      <th>pm10</th>\n",
       "      <th>pm25</th>\n",
       "      <th>so2</th>\n",
       "      <th>co</th>\n",
       "      <th>o3</th>\n",
       "      <th>no2</th>\n",
       "    </tr>\n",
       "  </thead>\n",
       "  <tbody>\n",
       "    <tr>\n",
       "      <th>count</th>\n",
       "      <td>1103.000000</td>\n",
       "      <td>1111.000000</td>\n",
       "      <td>1070.000000</td>\n",
       "      <td>1120.000000</td>\n",
       "      <td>1098.000000</td>\n",
       "      <td>1131.000000</td>\n",
       "    </tr>\n",
       "    <tr>\n",
       "      <th>mean</th>\n",
       "      <td>54.860381</td>\n",
       "      <td>81.045005</td>\n",
       "      <td>36.078505</td>\n",
       "      <td>12.183929</td>\n",
       "      <td>32.017304</td>\n",
       "      <td>20.587975</td>\n",
       "    </tr>\n",
       "    <tr>\n",
       "      <th>std</th>\n",
       "      <td>12.915561</td>\n",
       "      <td>20.691073</td>\n",
       "      <td>12.518551</td>\n",
       "      <td>5.094470</td>\n",
       "      <td>14.827500</td>\n",
       "      <td>9.208019</td>\n",
       "    </tr>\n",
       "    <tr>\n",
       "      <th>min</th>\n",
       "      <td>19.000000</td>\n",
       "      <td>21.000000</td>\n",
       "      <td>2.000000</td>\n",
       "      <td>3.000000</td>\n",
       "      <td>9.000000</td>\n",
       "      <td>1.000000</td>\n",
       "    </tr>\n",
       "    <tr>\n",
       "      <th>25%</th>\n",
       "      <td>48.000000</td>\n",
       "      <td>67.000000</td>\n",
       "      <td>26.000000</td>\n",
       "      <td>9.000000</td>\n",
       "      <td>22.000000</td>\n",
       "      <td>14.000000</td>\n",
       "    </tr>\n",
       "    <tr>\n",
       "      <th>50%</th>\n",
       "      <td>55.000000</td>\n",
       "      <td>80.000000</td>\n",
       "      <td>36.000000</td>\n",
       "      <td>11.000000</td>\n",
       "      <td>28.000000</td>\n",
       "      <td>19.000000</td>\n",
       "    </tr>\n",
       "    <tr>\n",
       "      <th>75%</th>\n",
       "      <td>62.000000</td>\n",
       "      <td>93.000000</td>\n",
       "      <td>45.000000</td>\n",
       "      <td>14.000000</td>\n",
       "      <td>38.000000</td>\n",
       "      <td>26.000000</td>\n",
       "    </tr>\n",
       "    <tr>\n",
       "      <th>max</th>\n",
       "      <td>179.000000</td>\n",
       "      <td>174.000000</td>\n",
       "      <td>82.000000</td>\n",
       "      <td>47.000000</td>\n",
       "      <td>151.000000</td>\n",
       "      <td>65.000000</td>\n",
       "    </tr>\n",
       "  </tbody>\n",
       "</table>\n",
       "</div>"
      ],
      "text/plain": [
       "              pm10         pm25          so2           co           o3  \\\n",
       "count  1103.000000  1111.000000  1070.000000  1120.000000  1098.000000   \n",
       "mean     54.860381    81.045005    36.078505    12.183929    32.017304   \n",
       "std      12.915561    20.691073    12.518551     5.094470    14.827500   \n",
       "min      19.000000    21.000000     2.000000     3.000000     9.000000   \n",
       "25%      48.000000    67.000000    26.000000     9.000000    22.000000   \n",
       "50%      55.000000    80.000000    36.000000    11.000000    28.000000   \n",
       "75%      62.000000    93.000000    45.000000    14.000000    38.000000   \n",
       "max     179.000000   174.000000    82.000000    47.000000   151.000000   \n",
       "\n",
       "               no2  \n",
       "count  1131.000000  \n",
       "mean     20.587975  \n",
       "std       9.208019  \n",
       "min       1.000000  \n",
       "25%      14.000000  \n",
       "50%      19.000000  \n",
       "75%      26.000000  \n",
       "max      65.000000  "
      ]
     },
     "execution_count": 20,
     "metadata": {},
     "output_type": "execute_result"
    }
   ],
   "source": [
    "# kelas 0\n",
    "dataset_tidak_baik.describe()"
   ]
  },
  {
   "cell_type": "code",
   "execution_count": null,
   "metadata": {},
   "outputs": [],
   "source": [
    "# pm10      : mean dari kelas 0 dan 1 terpaut cukup jauh, maka akan menggunakan kelas\n",
    "# pm25      : mean dari kelas 0 dan 1 terpaut cukup jauh, maka akan menggunakan kelas\n",
    "# so2       : mean dari kelas 0 dan 1 tidak terpaut jauh, maka tidak akan menggunakan kelas\n",
    "# co        : median dari kelas 0 dan 1 tidak terpaut jauh, maka tidak akan menggunakan kelas\n",
    "# o3        : median dari kelas 0 dan 1 tidak terpaut jauh, maka tidak akan menggunakan kelas\n",
    "# no2       : median dari kelas 0 dan 1 tidak terpaut jauh, maka tidak akan menggunakan kelas"
   ]
  },
  {
   "cell_type": "code",
   "execution_count": 21,
   "metadata": {},
   "outputs": [
    {
     "data": {
      "text/plain": [
       "<matplotlib.lines.Line2D at 0x2369e2e7a90>"
      ]
     },
     "execution_count": 21,
     "metadata": {},
     "output_type": "execute_result"
    },
    {
     "data": {
      "image/png": "[encoded data removed]",
      "text/plain": [
       "<Figure size 432x288 with 1 Axes>"
      ]
     },
     "metadata": {
      "needs_background": "light"
     },
     "output_type": "display_data"
    }
   ],
   "source": [
    "# visualisasi untuk PM10\n",
    "\n",
    "# plot untuk melihat distribusi pm10 jika tidak dibedakan berdasarkan categori\n",
    "sns.kdeplot(data = dataset.replace(\"SEDANG\", \"TIDAK SEHAT\"), x = \"pm10\")\n",
    "plt.axvline(dataset.pm10.mean(), 0, 1, color = \"g\")"
   ]
  },
  {
   "cell_type": "code",
   "execution_count": 36,
   "metadata": {},
   "outputs": [
    {
     "data": {
      "text/html": [
       "<div>\n",
       "<style scoped>\n",
       "    .dataframe tbody tr th:only-of-type {\n",
       "        vertical-align: middle;\n",
       "    }\n",
       "\n",
       "    .dataframe tbody tr th {\n",
       "        vertical-align: top;\n",
       "    }\n",
       "\n",
       "    .dataframe thead th {\n",
       "        text-align: right;\n",
       "    }\n",
       "</style>\n",
       "<table border=\"1\" class=\"dataframe\">\n",
       "  <thead>\n",
       "    <tr style=\"text-align: right;\">\n",
       "      <th></th>\n",
       "      <th>stasiun</th>\n",
       "      <th>pm10</th>\n",
       "      <th>pm25</th>\n",
       "      <th>so2</th>\n",
       "      <th>co</th>\n",
       "      <th>o3</th>\n",
       "      <th>no2</th>\n",
       "      <th>categori</th>\n",
       "    </tr>\n",
       "  </thead>\n",
       "  <tbody>\n",
       "    <tr>\n",
       "      <th>1464</th>\n",
       "      <td>DKI4 (Lubang Buaya)</td>\n",
       "      <td>179.0</td>\n",
       "      <td>58.0</td>\n",
       "      <td>39.0</td>\n",
       "      <td>9.0</td>\n",
       "      <td>17.0</td>\n",
       "      <td>15.0</td>\n",
       "      <td>TIDAK SEHAT</td>\n",
       "    </tr>\n",
       "    <tr>\n",
       "      <th>257</th>\n",
       "      <td>DKI4 (Lubang Buaya)</td>\n",
       "      <td>100.0</td>\n",
       "      <td>157.0</td>\n",
       "      <td>41.0</td>\n",
       "      <td>15.0</td>\n",
       "      <td>50.0</td>\n",
       "      <td>26.0</td>\n",
       "      <td>TIDAK SEHAT</td>\n",
       "    </tr>\n",
       "  </tbody>\n",
       "</table>\n",
       "</div>"
      ],
      "text/plain": [
       "                  stasiun   pm10   pm25   so2    co    o3   no2     categori\n",
       "1464  DKI4 (Lubang Buaya)  179.0   58.0  39.0   9.0  17.0  15.0  TIDAK SEHAT\n",
       "257   DKI4 (Lubang Buaya)  100.0  157.0  41.0  15.0  50.0  26.0  TIDAK SEHAT"
      ]
     },
     "execution_count": 36,
     "metadata": {},
     "output_type": "execute_result"
    }
   ],
   "source": [
    "dataset[dataset[\"pm10\"]>=100]"
   ]
  },
  {
   "cell_type": "code",
   "execution_count": 22,
   "metadata": {},
   "outputs": [
    {
     "data": {
      "text/plain": [
       "<matplotlib.lines.Line2D at 0x2369e407b20>"
      ]
     },
     "execution_count": 22,
     "metadata": {},
     "output_type": "execute_result"
    },
    {
     "data": {
      "image/png": "[encoded data removed]",
      "text/plain": [
       "<Figure size 432x288 with 1 Axes>"
      ]
     },
     "metadata": {
      "needs_background": "light"
     },
     "output_type": "display_data"
    }
   ],
   "source": [
    "# plot untuk melihat distribusi pm10 jika dibedakan berdasarkan categori\n",
    "sns.kdeplot(data = dataset.replace(\"SEDANG\", \"TIDAK SEHAT\"), x = \"pm10\", hue = \"categori\")\n",
    "plt.axvline(dataset_tidak_baik.pm10.mean(), 0, 1, color = \"g\")\n",
    "plt.axvline(dataset_baik.pm10.mean(), 0, 1, color = \"k\")"
   ]
  },
  {
   "cell_type": "code",
   "execution_count": null,
   "metadata": {},
   "outputs": [],
   "source": [
    "# distribusi skew ke kiri (nilai skew fisher-pearson negatif) imputasi median\n",
    "# mean 2 kelas berbeda jauh, imputasi berdasarkan kelas\n",
    "# kesimpulan: untuk pm10 akan menggunakan mean dari perkelas untuk imputasi"
   ]
  },
  {
   "cell_type": "code",
   "execution_count": 23,
   "metadata": {},
   "outputs": [
    {
     "data": {
      "text/plain": [
       "<matplotlib.lines.Line2D at 0x2369e3f3e50>"
      ]
     },
     "execution_count": 23,
     "metadata": {},
     "output_type": "execute_result"
    },
    {
     "data": {
      "image/png": "[encoded data removed]",
      "text/plain": [
       "<Figure size 432x288 with 1 Axes>"
      ]
     },
     "metadata": {
      "needs_background": "light"
     },
     "output_type": "display_data"
    }
   ],
   "source": [
    "# visualisasi untuk PM25\n",
    "\n",
    "sns.kdeplot(data = dataset.replace(\"SEDANG\", \"TIDAK SEHAT\"), x = \"pm25\")\n",
    "plt.axvline(dataset.pm25.mean(), 0, 1, color = \"g\")"
   ]
  },
  {
   "cell_type": "code",
   "execution_count": 24,
   "metadata": {},
   "outputs": [
    {
     "data": {
      "text/plain": [
       "<matplotlib.lines.Line2D at 0x2369e4bc8e0>"
      ]
     },
     "execution_count": 24,
     "metadata": {},
     "output_type": "execute_result"
    },
    {
     "data": {
      "image/png": "[encoded data removed]",
      "text/plain": [
       "<Figure size 432x288 with 1 Axes>"
      ]
     },
     "metadata": {
      "needs_background": "light"
     },
     "output_type": "display_data"
    }
   ],
   "source": [
    "sns.kdeplot(data = dataset.replace(\"SEDANG\", \"TIDAK SEHAT\"), x = \"pm25\", hue = \"categori\")\n",
    "plt.axvline(dataset_tidak_baik.pm25.mean(), 0, 1, color = \"g\")\n",
    "plt.axvline(dataset_baik.pm25.mean(), 0, 1, color = \"k\")"
   ]
  },
  {
   "cell_type": "code",
   "execution_count": null,
   "metadata": {},
   "outputs": [],
   "source": [
    "# distribusi sangat dekat dengan normal (nilai skew fisher-pearson mendekati nol), imputasi mean\n",
    "# mean 2 kelas berbeda jauh, imputasi berdasarkan kelas\n",
    "# kesimpulan: untuk pm25 akan menggunakan mean dari perkelas untuk imputasi"
   ]
  },
  {
   "cell_type": "code",
   "execution_count": 25,
   "metadata": {},
   "outputs": [
    {
     "data": {
      "text/plain": [
       "<matplotlib.lines.Line2D at 0x2369e40f460>"
      ]
     },
     "execution_count": 25,
     "metadata": {},
     "output_type": "execute_result"
    },
    {
     "data": {
      "image/png": "[encoded data removed]",
      "text/plain": [
       "<Figure size 432x288 with 1 Axes>"
      ]
     },
     "metadata": {
      "needs_background": "light"
     },
     "output_type": "display_data"
    }
   ],
   "source": [
    "# Visualisasi fitur SO2\n",
    "\n",
    "sns.kdeplot(data = dataset.replace(\"SEDANG\", \"TIDAK SEHAT\"), x = \"so2\")\n",
    "plt.axvline(dataset.so2.mean(), 0, 1, color = \"g\")"
   ]
  },
  {
   "cell_type": "code",
   "execution_count": 26,
   "metadata": {},
   "outputs": [
    {
     "data": {
      "text/plain": [
       "<matplotlib.lines.Line2D at 0x2369f572220>"
      ]
     },
     "execution_count": 26,
     "metadata": {},
     "output_type": "execute_result"
    },
    {
     "data": {
      "image/png": "[encoded data removed]",
      "text/plain": [
       "<Figure size 432x288 with 1 Axes>"
      ]
     },
     "metadata": {
      "needs_background": "light"
     },
     "output_type": "display_data"
    }
   ],
   "source": [
    "sns.kdeplot(data = dataset.replace(\"SEDANG\", \"TIDAK SEHAT\"), x = \"so2\", hue = \"categori\")\n",
    "plt.axvline(dataset_tidak_baik.so2.mean(), 0, 1, color = \"g\")\n",
    "plt.axvline(dataset_baik.so2.mean(), 0, 1, color = \"k\")"
   ]
  },
  {
   "cell_type": "code",
   "execution_count": 27,
   "metadata": {},
   "outputs": [
    {
     "data": {
      "text/plain": [
       "<matplotlib.lines.Line2D at 0x2369e457700>"
      ]
     },
     "execution_count": 27,
     "metadata": {},
     "output_type": "execute_result"
    },
    {
     "data": {
      "image/png": "[encoded data removed]",
      "text/plain": [
       "<Figure size 432x288 with 1 Axes>"
      ]
     },
     "metadata": {
      "needs_background": "light"
     },
     "output_type": "display_data"
    }
   ],
   "source": [
    "# Visualisasi fitur CO\n",
    "\n",
    "sns.kdeplot(data = dataset.replace(\"SEDANG\", \"TIDAK SEHAT\"), x = \"co\")\n",
    "plt.axvline(dataset.co.mean(), 0, 1, color = \"g\")"
   ]
  },
  {
   "cell_type": "code",
   "execution_count": 28,
   "metadata": {},
   "outputs": [
    {
     "data": {
      "text/plain": [
       "<matplotlib.lines.Line2D at 0x2369f649af0>"
      ]
     },
     "execution_count": 28,
     "metadata": {},
     "output_type": "execute_result"
    },
    {
     "data": {
      "image/png": "[encoded data removed]",
      "text/plain": [
       "<Figure size 432x288 with 1 Axes>"
      ]
     },
     "metadata": {
      "needs_background": "light"
     },
     "output_type": "display_data"
    }
   ],
   "source": [
    "sns.kdeplot(data = dataset.replace(\"SEDANG\", \"TIDAK SEHAT\"), x = \"co\", hue = \"categori\")\n",
    "plt.axvline(dataset_tidak_baik.co.median(), 0, 1, color = \"g\")\n",
    "plt.axvline(dataset_baik.co.median(), 0, 1, color = \"k\")"
   ]
  },
  {
   "cell_type": "code",
   "execution_count": 29,
   "metadata": {},
   "outputs": [
    {
     "data": {
      "text/plain": [
       "<matplotlib.lines.Line2D at 0x2369f4ee430>"
      ]
     },
     "execution_count": 29,
     "metadata": {},
     "output_type": "execute_result"
    },
    {
     "data": {
      "image/png": "[encoded data removed]",
      "text/plain": [
       "<Figure size 432x288 with 1 Axes>"
      ]
     },
     "metadata": {
      "needs_background": "light"
     },
     "output_type": "display_data"
    }
   ],
   "source": [
    "# Visualisasi fitur O3\n",
    "\n",
    "sns.kdeplot(data = dataset.replace(\"SEDANG\", \"TIDAK SEHAT\"), x = \"o3\")\n",
    "plt.axvline(dataset.o3.mean(), 0, 1, color = \"g\")"
   ]
  },
  {
   "cell_type": "code",
   "execution_count": 30,
   "metadata": {},
   "outputs": [
    {
     "data": {
      "text/plain": [
       "<matplotlib.lines.Line2D at 0x2369f733490>"
      ]
     },
     "execution_count": 30,
     "metadata": {},
     "output_type": "execute_result"
    },
    {
     "data": {
      "image/png": "[encoded data removed]",
      "text/plain": [
       "<Figure size 432x288 with 1 Axes>"
      ]
     },
     "metadata": {
      "needs_background": "light"
     },
     "output_type": "display_data"
    }
   ],
   "source": [
    "sns.kdeplot(data = dataset.replace(\"SEDANG\", \"TIDAK SEHAT\"), x = \"o3\", hue = \"categori\")\n",
    "plt.axvline(dataset_tidak_baik.o3.median(), 0, 1, color = \"g\")\n",
    "plt.axvline(dataset_baik.o3.median(), 0, 1, color = \"k\")"
   ]
  },
  {
   "cell_type": "code",
   "execution_count": 31,
   "metadata": {},
   "outputs": [
    {
     "data": {
      "text/plain": [
       "<matplotlib.lines.Line2D at 0x2369f633dc0>"
      ]
     },
     "execution_count": 31,
     "metadata": {},
     "output_type": "execute_result"
    },
    {
     "data": {
      "image/png": "[encoded data removed]",
      "text/plain": [
       "<Figure size 432x288 with 1 Axes>"
      ]
     },
     "metadata": {
      "needs_background": "light"
     },
     "output_type": "display_data"
    }
   ],
   "source": [
    "# Visualisasi fitur NO2\n",
    "\n",
    "sns.kdeplot(data = dataset.replace(\"SEDANG\", \"TIDAK SEHAT\"), x = \"no2\")\n",
    "plt.axvline(dataset.no2.mean(), 0, 1, color = \"g\")"
   ]
  },
  {
   "cell_type": "code",
   "execution_count": 32,
   "metadata": {},
   "outputs": [
    {
     "data": {
      "text/plain": [
       "<matplotlib.lines.Line2D at 0x2369f8171f0>"
      ]
     },
     "execution_count": 32,
     "metadata": {},
     "output_type": "execute_result"
    },
    {
     "data": {
      "image/png": "[encoded data removed]",
      "text/plain": [
       "<Figure size 432x288 with 1 Axes>"
      ]
     },
     "metadata": {
      "needs_background": "light"
     },
     "output_type": "display_data"
    }
   ],
   "source": [
    "sns.kdeplot(data = dataset.replace(\"SEDANG\", \"TIDAK SEHAT\"), x = \"no2\", hue = \"categori\")\n",
    "plt.axvline(dataset_tidak_baik.no2.median(), 0, 1, color = \"g\")\n",
    "plt.axvline(dataset_baik.no2.median(), 0, 1, color = \"k\")"
   ]
  },
  {
   "attachments": {},
   "cell_type": "markdown",
   "metadata": {},
   "source": [
    "Pearson Correlation"
   ]
  },
  {
   "cell_type": "code",
   "execution_count": 37,
   "metadata": {},
   "outputs": [
    {
     "data": {
      "text/plain": [
       "<AxesSubplot:>"
      ]
     },
     "execution_count": 37,
     "metadata": {},
     "output_type": "execute_result"
    },
    {
     "data": {
      "image/png": "[encoded data removed]",
      "text/plain": [
       "<Figure size 432x288 with 2 Axes>"
      ]
     },
     "metadata": {
      "needs_background": "light"
     },
     "output_type": "display_data"
    }
   ],
   "source": [
    "sns.heatmap(dataset.corr(numeric_only = True), annot=True)"
   ]
  },
  {
   "attachments": {},
   "cell_type": "markdown",
   "metadata": {},
   "source": [
    "T Test untuk PM10"
   ]
  },
  {
   "cell_type": "code",
   "execution_count": null,
   "metadata": {},
   "outputs": [],
   "source": [
    "# h0    = mean pm10 untuk kelas 0 = mean pm10 untuk kelas 1\n",
    "# h1    = mean pm10 untuk kelas 0 != mean pm10 untuk kelas 1"
   ]
  },
  {
   "cell_type": "code",
   "execution_count": 38,
   "metadata": {},
   "outputs": [
    {
     "data": {
      "text/plain": [
       "Ttest_indResult(statistic=-22.546103894423677, pvalue=1.8574927017476984e-94)"
      ]
     },
     "execution_count": 38,
     "metadata": {},
     "output_type": "execute_result"
    }
   ],
   "source": [
    "# perform t-test untuk 2 variabel\n",
    "scs.ttest_ind(\n",
    "    dataset_baik[dataset_baik.pm10.isnull() != True].pm10,\n",
    "    dataset_tidak_baik[dataset_tidak_baik.pm10.isnull() != True].pm10\n",
    ")"
   ]
  },
  {
   "cell_type": "code",
   "execution_count": 39,
   "metadata": {},
   "outputs": [
    {
     "data": {
      "text/plain": [
       "-1.646060029911409"
      ]
     },
     "execution_count": 39,
     "metadata": {},
     "output_type": "execute_result"
    }
   ],
   "source": [
    "# nilai t critical untuk alpha 0.05\n",
    "scs.t.ppf(0.05, df = (len(dataset) - 2))"
   ]
  },
  {
   "cell_type": "code",
   "execution_count": 40,
   "metadata": {},
   "outputs": [],
   "source": [
    "# dengan nilai t-value < t-critical dan nilai p-value < 0.05 maka h0 di reject\n",
    "# mean antara kelas 0 dan kelas 1 untuk pm10 statistically significant"
   ]
  },
  {
   "attachments": {},
   "cell_type": "markdown",
   "metadata": {},
   "source": [
    "T Test untuk PM25"
   ]
  },
  {
   "cell_type": "code",
   "execution_count": null,
   "metadata": {},
   "outputs": [],
   "source": [
    "# h0    = mean pm25 untuk kelas 0 = mean pm25 untuk kelas 1\n",
    "# h1    = mean pm25 untuk kelas 0 != mean pm25 untuk kelas 1"
   ]
  },
  {
   "cell_type": "code",
   "execution_count": 41,
   "metadata": {},
   "outputs": [
    {
     "data": {
      "text/plain": [
       "Ttest_indResult(statistic=-19.93265114515386, pvalue=1.2071194192037668e-76)"
      ]
     },
     "execution_count": 41,
     "metadata": {},
     "output_type": "execute_result"
    }
   ],
   "source": [
    "# perform t-test untuk 2 variabel\n",
    "scs.ttest_ind(\n",
    "    dataset_baik[dataset_baik.pm25.isnull() != True].pm25,\n",
    "    dataset_tidak_baik[dataset_tidak_baik.pm25.isnull() != True].pm25\n",
    ")"
   ]
  },
  {
   "cell_type": "code",
   "execution_count": 42,
   "metadata": {},
   "outputs": [
    {
     "data": {
      "text/plain": [
       "-1.646060029911409"
      ]
     },
     "execution_count": 42,
     "metadata": {},
     "output_type": "execute_result"
    }
   ],
   "source": [
    "# nilai t critical untuk alpha 0.05\n",
    "scs.t.ppf(0.05, df = (len(dataset) - 2))"
   ]
  },
  {
   "cell_type": "code",
   "execution_count": null,
   "metadata": {},
   "outputs": [],
   "source": [
    "# dengan nilai t-value < t-critical dan nilai p-value < 0.05 maka h0 di reject\n",
    "# mean antara kelas 0 dan kelas 1 untuk pm25 statistically significant"
   ]
  },
  {
   "attachments": {},
   "cell_type": "markdown",
   "metadata": {},
   "source": [
    "T Test untuk SO2"
   ]
  },
  {
   "cell_type": "code",
   "execution_count": null,
   "metadata": {},
   "outputs": [],
   "source": [
    "# h0    = mean so2 untuk kelas 0 = mean so2 untuk kelas 1\n",
    "# h1    = mean so2 untuk kelas 0 != mean so2 untuk kelas 1"
   ]
  },
  {
   "cell_type": "code",
   "execution_count": 43,
   "metadata": {},
   "outputs": [
    {
     "data": {
      "text/plain": [
       "Ttest_indResult(statistic=-9.395805327022734, pvalue=2.7768298500321463e-20)"
      ]
     },
     "execution_count": 43,
     "metadata": {},
     "output_type": "execute_result"
    }
   ],
   "source": [
    "# perform t-test untuk 2 variabel\n",
    "scs.ttest_ind(\n",
    "    dataset_baik[dataset_baik.so2.isnull() != True].so2,\n",
    "    dataset_tidak_baik[dataset_tidak_baik.so2.isnull() != True].so2\n",
    ")"
   ]
  },
  {
   "cell_type": "code",
   "execution_count": 44,
   "metadata": {},
   "outputs": [
    {
     "data": {
      "text/plain": [
       "-1.646060029911409"
      ]
     },
     "execution_count": 44,
     "metadata": {},
     "output_type": "execute_result"
    }
   ],
   "source": [
    "# nilai t critical untuk alpha 0.05\n",
    "scs.t.ppf(0.05, df = (len(dataset) - 2))"
   ]
  },
  {
   "cell_type": "code",
   "execution_count": 45,
   "metadata": {},
   "outputs": [],
   "source": [
    "# dengan nilai t-value < t-critical dan nilai p-value < 0.05 maka h0 di reject\n",
    "# mean antara kelas 0 dan kelas 1 untuk so2 statistically significant"
   ]
  },
  {
   "attachments": {},
   "cell_type": "markdown",
   "metadata": {},
   "source": [
    "T Test untuk CO"
   ]
  },
  {
   "cell_type": "code",
   "execution_count": 46,
   "metadata": {},
   "outputs": [],
   "source": [
    "# h0    = mean co untuk kelas 0 = mean co untuk kelas 1\n",
    "# h1    = mean co untuk kelas 0 != mean co untuk kelas 1"
   ]
  },
  {
   "cell_type": "code",
   "execution_count": 47,
   "metadata": {},
   "outputs": [
    {
     "data": {
      "text/plain": [
       "Ttest_indResult(statistic=-7.510570497614444, pvalue=1.1161967662779388e-13)"
      ]
     },
     "execution_count": 47,
     "metadata": {},
     "output_type": "execute_result"
    }
   ],
   "source": [
    "# perform t-test untuk 2 variabel\n",
    "scs.ttest_ind(\n",
    "    dataset_baik[dataset_baik.co.isnull() != True].co,\n",
    "    dataset_tidak_baik[dataset_tidak_baik.co.isnull() != True].co\n",
    ")"
   ]
  },
  {
   "cell_type": "code",
   "execution_count": 48,
   "metadata": {},
   "outputs": [
    {
     "data": {
      "text/plain": [
       "-1.646060029911409"
      ]
     },
     "execution_count": 48,
     "metadata": {},
     "output_type": "execute_result"
    }
   ],
   "source": [
    "# nilai t critical untuk alpha 0.05\n",
    "scs.t.ppf(0.05, df = (len(dataset) - 2))"
   ]
  },
  {
   "cell_type": "code",
   "execution_count": 49,
   "metadata": {},
   "outputs": [],
   "source": [
    "# dengan nilai t-value < t-critical dan nilai p-value < 0.05 maka h0 di reject\n",
    "# mean antara kelas 0 dan kelas 1 untuk co statistically significant"
   ]
  },
  {
   "attachments": {},
   "cell_type": "markdown",
   "metadata": {},
   "source": [
    "T Test untuk O3"
   ]
  },
  {
   "cell_type": "code",
   "execution_count": 50,
   "metadata": {},
   "outputs": [],
   "source": [
    "# h0    = mean o3 untuk kelas 0 = mean o3 untuk kelas 1\n",
    "# h1    = mean o3 untuk kelas 0 != mean o3 untuk kelas 1"
   ]
  },
  {
   "cell_type": "code",
   "execution_count": 51,
   "metadata": {},
   "outputs": [
    {
     "data": {
      "text/plain": [
       "Ttest_indResult(statistic=-5.349594331630185, pvalue=2.526597136196726e-07)"
      ]
     },
     "execution_count": 51,
     "metadata": {},
     "output_type": "execute_result"
    }
   ],
   "source": [
    "# perform t-test untuk 2 variabel\n",
    "scs.ttest_ind(\n",
    "    dataset_baik[dataset_baik.o3.isnull() != True].o3,\n",
    "    dataset_tidak_baik[dataset_tidak_baik.o3.isnull() != True].o3,\n",
    "    equal_var = False\n",
    ")"
   ]
  },
  {
   "cell_type": "code",
   "execution_count": 52,
   "metadata": {},
   "outputs": [
    {
     "data": {
      "text/plain": [
       "-1.646060029911409"
      ]
     },
     "execution_count": 52,
     "metadata": {},
     "output_type": "execute_result"
    }
   ],
   "source": [
    "# nilai t critical untuk alpha 0.05\n",
    "scs.t.ppf(0.05, df = (len(dataset) - 2))"
   ]
  },
  {
   "cell_type": "code",
   "execution_count": 53,
   "metadata": {},
   "outputs": [],
   "source": [
    "# dengan nilai t-value < t-critical dan nilai p-value < 0.05 maka h0 di reject\n",
    "# mean antara kelas 0 dan kelas 1 untuk o3 statistically significant"
   ]
  },
  {
   "attachments": {},
   "cell_type": "markdown",
   "metadata": {},
   "source": [
    "T Test untuk NO2"
   ]
  },
  {
   "cell_type": "code",
   "execution_count": 54,
   "metadata": {},
   "outputs": [],
   "source": [
    "# h0    = mean no2 untuk kelas 0 = mean no2 untuk kelas 1\n",
    "# h1    = mean no2 untuk kelas 0 != mean no2 untuk kelas 1"
   ]
  },
  {
   "cell_type": "code",
   "execution_count": 55,
   "metadata": {},
   "outputs": [
    {
     "data": {
      "text/plain": [
       "Ttest_indResult(statistic=-10.96980863380057, pvalue=8.436737461791034e-27)"
      ]
     },
     "execution_count": 55,
     "metadata": {},
     "output_type": "execute_result"
    }
   ],
   "source": [
    "# perform t-test untuk 2 variabel\n",
    "scs.ttest_ind(\n",
    "    dataset_baik[dataset_baik.no2.isnull() != True].no2,\n",
    "    dataset_tidak_baik[dataset_tidak_baik.no2.isnull() != True].no2\n",
    ")"
   ]
  },
  {
   "cell_type": "code",
   "execution_count": 56,
   "metadata": {},
   "outputs": [
    {
     "data": {
      "text/plain": [
       "-1.646060029911409"
      ]
     },
     "execution_count": 56,
     "metadata": {},
     "output_type": "execute_result"
    }
   ],
   "source": [
    "# nilai t critical untuk alpha 0.05\n",
    "scs.t.ppf(0.05, df = (len(dataset) - 2))"
   ]
  },
  {
   "cell_type": "code",
   "execution_count": 57,
   "metadata": {},
   "outputs": [],
   "source": [
    "# dengan nilai t-value < t-critical dan nilai p-value < 0.05 maka h0 di reject\n",
    "# mean antara kelas 0 dan kelas 1 untuk no2 statistically significant"
   ]
  },
  {
   "attachments": {},
   "cell_type": "markdown",
   "metadata": {},
   "source": [
    "### Cek Imbalance Label"
   ]
  },
  {
   "cell_type": "code",
   "execution_count": 58,
   "metadata": {},
   "outputs": [
    {
     "data": {
      "text/plain": [
       "SEDANG         944\n",
       "TIDAK SEHAT    190\n",
       "BAIK           132\n",
       "Name: categori, dtype: int64"
      ]
     },
     "execution_count": 58,
     "metadata": {},
     "output_type": "execute_result"
    }
   ],
   "source": [
    "dataset.categori.value_counts()"
   ]
  },
  {
   "cell_type": "code",
   "execution_count": 59,
   "metadata": {},
   "outputs": [
    {
     "data": {
      "text/plain": [
       "<AxesSubplot:xlabel='categori', ylabel='Count'>"
      ]
     },
     "execution_count": 59,
     "metadata": {},
     "output_type": "execute_result"
    },
    {
     "data": {
      "image/png": "[encoded data removed]",
      "text/plain": [
       "<Figure size 432x288 with 1 Axes>"
      ]
     },
     "metadata": {
      "needs_background": "light"
     },
     "output_type": "display_data"
    }
   ],
   "source": [
    "sns.histplot(data = dataset, x = \"categori\", hue = \"categori\")"
   ]
  },
  {
   "attachments": {},
   "cell_type": "markdown",
   "metadata": {},
   "source": [
    "## Cek Outliers"
   ]
  },
  {
   "cell_type": "code",
   "execution_count": 60,
   "metadata": {},
   "outputs": [
    {
     "data": {
      "text/plain": [
       "<AxesSubplot:xlabel='pm10'>"
      ]
     },
     "execution_count": 60,
     "metadata": {},
     "output_type": "execute_result"
    },
    {
     "data": {
      "image/png": "[encoded data removed]",
      "text/plain": [
       "<Figure size 432x288 with 1 Axes>"
      ]
     },
     "metadata": {
      "needs_background": "light"
     },
     "output_type": "display_data"
    }
   ],
   "source": [
    "sns.boxplot(data = dataset, x = \"pm10\")"
   ]
  },
  {
   "cell_type": "code",
   "execution_count": 61,
   "metadata": {},
   "outputs": [
    {
     "data": {
      "text/plain": [
       "<AxesSubplot:xlabel='pm25'>"
      ]
     },
     "execution_count": 61,
     "metadata": {},
     "output_type": "execute_result"
    },
    {
     "data": {
      "image/png": "[encoded data removed]",
      "text/plain": [
       "<Figure size 432x288 with 1 Axes>"
      ]
     },
     "metadata": {
      "needs_background": "light"
     },
     "output_type": "display_data"
    }
   ],
   "source": [
    "sns.boxplot(data = dataset, x = \"pm25\")"
   ]
  },
  {
   "cell_type": "code",
   "execution_count": 62,
   "metadata": {},
   "outputs": [
    {
     "data": {
      "text/plain": [
       "<AxesSubplot:xlabel='so2'>"
      ]
     },
     "execution_count": 62,
     "metadata": {},
     "output_type": "execute_result"
    },
    {
     "data": {
      "image/png": "[encoded data removed]",
      "text/plain": [
       "<Figure size 432x288 with 1 Axes>"
      ]
     },
     "metadata": {
      "needs_background": "light"
     },
     "output_type": "display_data"
    }
   ],
   "source": [
    "sns.boxplot(data = dataset, x = \"so2\")"
   ]
  },
  {
   "cell_type": "code",
   "execution_count": 63,
   "metadata": {},
   "outputs": [
    {
     "data": {
      "text/plain": [
       "<AxesSubplot:xlabel='co'>"
      ]
     },
     "execution_count": 63,
     "metadata": {},
     "output_type": "execute_result"
    },
    {
     "data": {
      "image/png": "[encoded data removed]",
      "text/plain": [
       "<Figure size 432x288 with 1 Axes>"
      ]
     },
     "metadata": {
      "needs_background": "light"
     },
     "output_type": "display_data"
    }
   ],
   "source": [
    "sns.boxplot(data = dataset, x = \"co\")"
   ]
  },
  {
   "cell_type": "code",
   "execution_count": 64,
   "metadata": {},
   "outputs": [
    {
     "data": {
      "text/plain": [
       "<AxesSubplot:xlabel='o3'>"
      ]
     },
     "execution_count": 64,
     "metadata": {},
     "output_type": "execute_result"
    },
    {
     "data": {
      "image/png": "[encoded data removed]",
      "text/plain": [
       "<Figure size 432x288 with 1 Axes>"
      ]
     },
     "metadata": {
      "needs_background": "light"
     },
     "output_type": "display_data"
    }
   ],
   "source": [
    "sns.boxplot(data = dataset, x = \"o3\")"
   ]
  },
  {
   "cell_type": "code",
   "execution_count": 65,
   "metadata": {},
   "outputs": [
    {
     "data": {
      "text/plain": [
       "<AxesSubplot:xlabel='no2'>"
      ]
     },
     "execution_count": 65,
     "metadata": {},
     "output_type": "execute_result"
    },
    {
     "data": {
      "image/png": "[encoded data removed]",
      "text/plain": [
       "<Figure size 432x288 with 1 Axes>"
      ]
     },
     "metadata": {
      "needs_background": "light"
     },
     "output_type": "display_data"
    }
   ],
   "source": [
    "sns.boxplot(data = dataset, x = \"no2\")"
   ]
  },
  {
   "attachments": {},
   "cell_type": "markdown",
   "metadata": {},
   "source": [
    "## Kesimpulan?\n",
    "\n",
    "1. Missing value handling\n",
    "1.1. pm10      : mean kelas\n",
    "1.2. pm25      : mean kelas\n",
    "1.3. so2       : mean\n",
    "1.4. co        : median\n",
    "1.5. o3        : median\n",
    "1.6. no2       : median\n",
    "\n",
    "2. Join kategori sedang dan tidak sehat menjadi tidak baik\n",
    "\n",
    "3. Balancing label baik dan tidak baik\n",
    "\n",
    "4. Outlier removal"
   ]
  }
 ],
 "metadata": {
  "kernelspec": {
   "display_name": "base",
   "language": "python",
   "name": "python3"
  },
  "language_info": {
   "codemirror_mode": {
    "name": "ipython",
    "version": 3
   },
   "file_extension": ".py",
   "mimetype": "text/x-python",
   "name": "python",
   "nbconvert_exporter": "python",
   "pygments_lexer": "ipython3",
   "version": "3.9.12"
  },
  "orig_nbformat": 4
 },
 "nbformat": 4,
 "nbformat_minor": 2
}
